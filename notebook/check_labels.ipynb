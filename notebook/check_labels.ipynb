{
 "cells": [
  {
   "cell_type": "code",
   "execution_count": 5,
   "source": [
    "A = {'Labels': [{'Name': 'Cat', 'Confidence': 96.2874755859375, 'Instances': [{'BoundingBox': {'Width': 0.3737889528274536, 'Height': 0.8470754623413086, 'Left': 0.6012626886367798, 'Top': 0.08758564293384552}, 'Confidence': 96.2874755859375}], 'Parents': [{'Name': 'Pet'}, {'Name': 'Mammal'}, {'Name': 'Animal'}]}, \n",
    "{'Name': 'Animal', 'Confidence': 96.2874755859375, 'Instances': [], 'Parents': []}, \n",
    "{'Name': 'Pet', 'Confidence': 96.2874755859375, 'Instances': [], 'Parents': [{'Name': 'Animal'}]}, \n",
    "{'Name': 'Mammal', 'Confidence': 96.2874755859375, 'Instances': [], 'Parents': [{'Name': 'Animal'}]}, \n",
    "{'Name': 'Dog', 'Confidence': 95.11839294433594, 'Instances': [{'BoundingBox': {'Width': 0.5622279644012451, 'Height': 0.942550003528595, 'Left': 0.04405662417411804, 'Top': 0.01473320834338665}, 'Confidence': 95.11839294433594}], 'Parents': [{'Name': 'Pet'}, {'Name': 'Animal'}, {'Name': 'Mammal'}]}], 'LabelModelVersion': '2.0', 'ResponseMetadata': {'RequestId': '9a534d29-da5a-4d44-9e67-3bb3b97eec7b', 'HTTPStatusCode': 200, 'HTTPHeaders': {'x-amzn-requestid': '9a534d29-da5a-4d44-9e67-3bb3b97eec7b', 'content-type': 'application/x-amz-json-1.1', 'content-length': '853', 'date': 'Sun, 14 Nov 2021 02:25:57 GMT'}, 'RetryAttempts': 0}}\n"
   ],
   "outputs": [],
   "metadata": {}
  },
  {
   "cell_type": "code",
   "execution_count": 18,
   "source": [
    "A['Labels'][4]['Instances'][0]['BoundingBox']"
   ],
   "outputs": [
    {
     "output_type": "execute_result",
     "data": {
      "text/plain": [
       "{'Width': 0.5622279644012451,\n",
       " 'Height': 0.942550003528595,\n",
       " 'Left': 0.04405662417411804,\n",
       " 'Top': 0.01473320834338665}"
      ]
     },
     "metadata": {},
     "execution_count": 18
    }
   ],
   "metadata": {}
  },
  {
   "cell_type": "code",
   "execution_count": 23,
   "source": [
    "A['Labels'][0]['Confidence']"
   ],
   "outputs": [
    {
     "output_type": "execute_result",
     "data": {
      "text/plain": [
       "96.2874755859375"
      ]
     },
     "metadata": {},
     "execution_count": 23
    }
   ],
   "metadata": {}
  },
  {
   "cell_type": "code",
   "execution_count": 20,
   "source": [
    "for a in A['Labels']:\n",
    "    bb = a['Instances']\n",
    "    if bb != []:\n",
    "        print(a['Name'])\n",
    "        print(bb[0]['BoundingBox'])"
   ],
   "outputs": [
    {
     "output_type": "stream",
     "name": "stdout",
     "text": [
      "Cat\n",
      "{'Width': 0.3737889528274536, 'Height': 0.8470754623413086, 'Left': 0.6012626886367798, 'Top': 0.08758564293384552}\n",
      "Dog\n",
      "{'Width': 0.5622279644012451, 'Height': 0.942550003528595, 'Left': 0.04405662417411804, 'Top': 0.01473320834338665}\n"
     ]
    }
   ],
   "metadata": {}
  },
  {
   "cell_type": "code",
   "execution_count": 24,
   "source": [
    "B = {'FaceDetails': [{'BoundingBox': {'Width': 0.2805699110031128, 'Height': 0.5216324925422668, 'Left': 0.26773345470428467, 'Top': 0.2866242527961731}, 'AgeRange': {'Low': 22, 'High': 34}, 'Smile': {'Value': False, 'Confidence': 90.84259033203125}, 'Eyeglasses': {'Value': False, 'Confidence': 92.46395874023438}, 'Sunglasses': {'Value': False, 'Confidence': 96.1468734741211}, 'Gender': {'Value': 'Male', 'Confidence': 99.7490463256836}, 'Beard': {'Value': True, 'Confidence': 80.98804473876953}, 'Mustache': {'Value': False, 'Confidence': 73.26493072509766}, 'EyesOpen': {'Value': True, 'Confidence': 99.29786682128906}, 'MouthOpen': {'Value': True, 'Confidence': 62.976348876953125}, 'Emotions': [{'Type': 'CALM', 'Confidence': 68.21485900878906}, {'Type': 'SURPRISED', 'Confidence': 12.009257316589355}, {'Type': 'HAPPY', 'Confidence': 11.102036476135254}, {'Type': 'ANGRY', 'Confidence': 2.768862724304199}, {'Type': 'CONFUSED', 'Confidence': 2.40431809425354}, {'Type': 'SAD', 'Confidence': 1.342664122581482}, {'Type': 'DISGUSTED', 'Confidence': 1.1251511573791504}, {'Type': 'FEAR', 'Confidence': 1.032853364944458}], 'Landmarks': [{'Type': 'eyeLeft', 'X': 0.3575991690158844, 'Y': 0.5096498727798462}, {'Type': 'eyeRight', 'X': 0.4874553382396698, 'Y': 0.5051628947257996}, {'Type': 'mouthLeft', 'X': 0.36896368861198425, 'Y': 0.6928253769874573}, {'Type': 'mouthRight', 'X': 0.4772447347640991, 'Y': 0.6889230012893677}, {'Type': 'nose', 'X': 0.4269876182079315, 'Y': 0.6037365794181824}, {'Type': 'leftEyeBrowLeft', 'X': 0.306967169046402, 'Y': 0.46873486042022705}, {'Type': 'leftEyeBrowRight', 'X': 0.3470422327518463, 'Y': 0.44492971897125244}, {'Type': 'leftEyeBrowUp', 'X': 0.385556697845459, 'Y': 0.4531010389328003}, {'Type': 'rightEyeBrowLeft', 'X': 0.4598875939846039, 'Y': 0.450693815946579}, {'Type': 'rightEyeBrowRight', 'X': 0.49674084782600403, 'Y': 0.4400370717048645}, {'Type': 'rightEyeBrowUp', 'X': 0.532672107219696, 'Y': 0.46103647351264954}, {'Type': 'leftEyeLeft', 'X': 0.3337348401546478, 'Y': 0.50962233543396}, {'Type': 'leftEyeRight', 'X': 0.38303127884864807, 'Y': 0.5102626085281372}, {'Type': 'leftEyeUp', 'X': 0.3572627007961273, 'Y': 0.5001940131187439}, {'Type': 'leftEyeDown', 'X': 0.35802754759788513, 'Y': 0.5175642967224121}, {'Type': 'rightEyeLeft', 'X': 0.4614366292953491, 'Y': 0.5075809955596924}, {'Type': 'rightEyeRight', 'X': 0.5096717476844788, 'Y': 0.5035861730575562}, {'Type': 'rightEyeUp', 'X': 0.48763322830200195, 'Y': 0.4957314729690552}, {'Type': 'rightEyeDown', 'X': 0.48662069439888, 'Y': 0.5131178498268127}, {'Type': 'noseLeft', 'X': 0.39976727962493896, 'Y': 0.6253142952919006}, {'Type': 'noseRight', 'X': 0.4478093683719635, 'Y': 0.6237296462059021}, {'Type': 'mouthUp', 'X': 0.4244002401828766, 'Y': 0.6679641604423523}, {'Type': 'mouthDown', 'X': 0.42400214076042175, 'Y': 0.7233161330223083}, {'Type': 'leftPupil', 'X': 0.3575991690158844, 'Y': 0.5096498727798462}, {'Type': 'rightPupil', 'X': 0.4874553382396698, 'Y': 0.5051628947257996}, {'Type': 'upperJawlineLeft', 'X': 0.27312901616096497, 'Y': 0.5162956714630127}, {'Type': 'midJawlineLeft', 'X': 0.30187955498695374, 'Y': 0.7134925127029419}, {'Type': 'chinBottom', 'X': 0.4227152168750763, 'Y': 0.8187986612319946}, {'Type': 'midJawlineRight', 'X': 0.5316714644432068, 'Y': 0.7059769034385681}, {'Type': 'upperJawlineRight', 'X': 0.5562894940376282, 'Y': 0.5069191455841064}], 'Pose': {'Roll': -0.8377635478973389, 'Yaw': 2.087106943130493, 'Pitch': 3.27138352394104}, 'Quality': {'Brightness': 37.50084686279297, 'Sharpness': 32.20803451538086}, 'Confidence': 99.99785614013672}], 'ResponseMetadata': {'RequestId': '8680ec9c-a95e-4e61-ac1a-cca7691c90a3', 'HTTPStatusCode': 200, 'HTTPHeaders': {'x-amzn-requestid': '8680ec9c-a95e-4e61-ac1a-cca7691c90a3', 'content-type': 'application/x-amz-json-1.1', 'content-length': '3328', 'date': 'Sun, 14 Nov 2021 04:55:01 GMT'}, 'RetryAttempts': 0}}\n"
   ],
   "outputs": [],
   "metadata": {}
  },
  {
   "cell_type": "code",
   "execution_count": null,
   "source": [
    "# dict FaceDetails\n",
    "#       dict BB\n",
    "#       dict Gender - value, confidence\n",
    "#       dict AgeRange - low, hight\n",
    "#       dict Smile - value, score\n",
    "#       dict Emotions - list[{type, confidence}]"
   ],
   "outputs": [],
   "metadata": {}
  },
  {
   "cell_type": "code",
   "execution_count": 27,
   "source": [
    "B['FaceDetails'][0]['Emotions'][0]"
   ],
   "outputs": [
    {
     "output_type": "execute_result",
     "data": {
      "text/plain": [
       "{'Type': 'CALM', 'Confidence': 68.21485900878906}"
      ]
     },
     "metadata": {},
     "execution_count": 27
    }
   ],
   "metadata": {}
  },
  {
   "cell_type": "code",
   "execution_count": 28,
   "source": [
    "B['FaceDetails'][0]['Gender']"
   ],
   "outputs": [
    {
     "output_type": "execute_result",
     "data": {
      "text/plain": [
       "{'Value': 'Male', 'Confidence': 99.7490463256836}"
      ]
     },
     "metadata": {},
     "execution_count": 28
    }
   ],
   "metadata": {}
  },
  {
   "cell_type": "code",
   "execution_count": 29,
   "source": [
    "B['FaceDetails'][0]['AgeRange']"
   ],
   "outputs": [
    {
     "output_type": "execute_result",
     "data": {
      "text/plain": [
       "{'Low': 22, 'High': 34}"
      ]
     },
     "metadata": {},
     "execution_count": 29
    }
   ],
   "metadata": {}
  },
  {
   "cell_type": "code",
   "execution_count": 2,
   "source": [
    "A = [{'Similarity': 99.83750915527344, 'Face': {'FaceId': 'b53a0966-0024-44c0-8c93-b6ead38df011', 'BoundingBox': {'Width': 0.16023199260234833, 'Height': 0.31047698855400085, 'Left': 0.3477410078048706, 'Top': 0.4824959933757782}, 'ImageId': '81d80e04-ce4f-362a-8868-59fff5f94496', 'ExternalImageId': 'okta_1.jpg', 'Confidence': 99.95320129394531}}, {'Similarity': 99.6501235961914, 'Face': {'FaceId': 'b97a0d0c-858f-4d3b-854d-9411826705fb', 'BoundingBox': {'Width': 0.2849630117416382, 'Height': 0.29364800453186035, 'Left': 0.37787601351737976, 'Top': 0.4542340040206909}, 'ImageId': '18c6da82-ebb2-3de2-a9fe-f0cf6780dc79', 'ExternalImageId': 'okta_2.jpg', 'Confidence': 99.99909973144531}}]\n"
   ],
   "outputs": [],
   "metadata": {}
  },
  {
   "cell_type": "code",
   "execution_count": 3,
   "source": [
    "A[0]['Similarity']A[0]['Similarity']"
   ],
   "outputs": [
    {
     "output_type": "execute_result",
     "data": {
      "text/plain": [
       "99.83750915527344"
      ]
     },
     "metadata": {},
     "execution_count": 3
    }
   ],
   "metadata": {}
  },
  {
   "cell_type": "code",
   "execution_count": 4,
   "source": [
    "A[0]['Face']['BoundingBox']"
   ],
   "outputs": [
    {
     "output_type": "execute_result",
     "data": {
      "text/plain": [
       "{'Width': 0.16023199260234833,\n",
       " 'Height': 0.31047698855400085,\n",
       " 'Left': 0.3477410078048706,\n",
       " 'Top': 0.4824959933757782}"
      ]
     },
     "metadata": {},
     "execution_count": 4
    }
   ],
   "metadata": {}
  },
  {
   "cell_type": "code",
   "execution_count": 6,
   "source": [
    "A[0]['Face']['ExternalImageId'].split('.')[0].split('_')[0]"
   ],
   "outputs": [
    {
     "output_type": "execute_result",
     "data": {
      "text/plain": [
       "'okta'"
      ]
     },
     "metadata": {},
     "execution_count": 6
    }
   ],
   "metadata": {}
  },
  {
   "cell_type": "code",
   "execution_count": 1,
   "source": [
    "data = {'SearchedFaceBoundingBox': {'Width': 0.2584037184715271, 'Height': 0.503466784954071, 'Left': 0.40955647826194763, 'Top': 0.3529449701309204}, 'SearchedFaceConfidence': 99.99887084960938, 'FaceMatches': [{'Similarity': 99.99991607666016, 'Face': {'FaceId': '314c1ff6-5e6e-4a40-865d-3238454f2fd3', 'BoundingBox': {'Width': 0.2849630117416382, 'Height': 0.29364800453186035, 'Left': 0.37787601351737976, 'Top': 0.4542340040206909}, 'ImageId': '2320884a-58c6-38c0-b0f6-9e294fe39595', 'ExternalImageId': 'okta.jpg', 'Confidence': 99.99909973144531}}], 'FaceModelVersion': '5.0', 'ResponseMetadata': {'RequestId': 'aaf2ec88-aedd-4e11-8c21-874de142e9b1', 'HTTPStatusCode': 200, 'HTTPHeaders': {'x-amzn-requestid': 'aaf2ec88-aedd-4e11-8c21-874de142e9b1', 'content-type': 'application/x-amz-json-1.1', 'content-length': '542', 'date': 'Tue, 07 Dec 2021 13:46:22 GMT'}, 'RetryAttempts': 0}}"
   ],
   "outputs": [],
   "metadata": {}
  },
  {
   "cell_type": "code",
   "execution_count": 2,
   "source": [
    "data"
   ],
   "outputs": [
    {
     "output_type": "execute_result",
     "data": {
      "text/plain": [
       "{'SearchedFaceBoundingBox': {'Width': 0.2584037184715271,\n",
       "  'Height': 0.503466784954071,\n",
       "  'Left': 0.40955647826194763,\n",
       "  'Top': 0.3529449701309204},\n",
       " 'SearchedFaceConfidence': 99.99887084960938,\n",
       " 'FaceMatches': [{'Similarity': 99.99991607666016,\n",
       "   'Face': {'FaceId': '314c1ff6-5e6e-4a40-865d-3238454f2fd3',\n",
       "    'BoundingBox': {'Width': 0.2849630117416382,\n",
       "     'Height': 0.29364800453186035,\n",
       "     'Left': 0.37787601351737976,\n",
       "     'Top': 0.4542340040206909},\n",
       "    'ImageId': '2320884a-58c6-38c0-b0f6-9e294fe39595',\n",
       "    'ExternalImageId': 'okta.jpg',\n",
       "    'Confidence': 99.99909973144531}}],\n",
       " 'FaceModelVersion': '5.0',\n",
       " 'ResponseMetadata': {'RequestId': 'aaf2ec88-aedd-4e11-8c21-874de142e9b1',\n",
       "  'HTTPStatusCode': 200,\n",
       "  'HTTPHeaders': {'x-amzn-requestid': 'aaf2ec88-aedd-4e11-8c21-874de142e9b1',\n",
       "   'content-type': 'application/x-amz-json-1.1',\n",
       "   'content-length': '542',\n",
       "   'date': 'Tue, 07 Dec 2021 13:46:22 GMT'},\n",
       "  'RetryAttempts': 0}}"
      ]
     },
     "metadata": {},
     "execution_count": 2
    }
   ],
   "metadata": {}
  },
  {
   "cell_type": "code",
   "execution_count": 11,
   "source": [
    "for face in data['FaceMatches']:\n",
    "    name = str(face['Face']['ExternalImageId']).split('.')[0]\n",
    "    similarity = face['Similarity']\n",
    "    print('{} .. conf %{:.2f}'.format(name, similarity))\n",
    "    # for instance in face['Face']:\n",
    "    print(face['Face']['BoundingBox']['Width'])\n",
    "    print(face['Face']['Confidence'])\n",
    "    # print(face['BoundingBox'])\n",
    "    #     print(type(instance))\n",
    "    #     # print(instance['BoundingBox']['Width'])"
   ],
   "outputs": [
    {
     "output_type": "stream",
     "name": "stdout",
     "text": [
      "okta .. conf %100.00\n",
      "0.2849630117416382\n",
      "99.99909973144531\n"
     ]
    }
   ],
   "metadata": {}
  },
  {
   "cell_type": "code",
   "execution_count": null,
   "source": [],
   "outputs": [],
   "metadata": {}
  }
 ],
 "metadata": {
  "orig_nbformat": 4,
  "language_info": {
   "name": "python",
   "version": "3.6.9",
   "mimetype": "text/x-python",
   "codemirror_mode": {
    "name": "ipython",
    "version": 3
   },
   "pygments_lexer": "ipython3",
   "nbconvert_exporter": "python",
   "file_extension": ".py"
  },
  "kernelspec": {
   "name": "python3",
   "display_name": "Python 3.6.9 64-bit"
  },
  "interpreter": {
   "hash": "31f2aee4e71d21fbe5cf8b01ff0e069b9275f58929596ceb00d14d90e3e16cd6"
  }
 },
 "nbformat": 4,
 "nbformat_minor": 2
}